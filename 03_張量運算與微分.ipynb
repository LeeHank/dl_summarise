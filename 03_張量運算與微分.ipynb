{
 "cells": [
  {
   "cell_type": "markdown",
   "metadata": {},
   "source": [
    "# TensorFlow 架構與主要功能"
   ]
  },
  {
   "cell_type": "markdown",
   "metadata": {},
   "source": [
    "## Tensorflow 架構"
   ]
  },
  {
   "cell_type": "markdown",
   "metadata": {},
   "source": [
    "* Tensorflow 執行環境包括三種版本：\n",
    "  * TensorFlow: 一般電腦版本. \n",
    "  * TensorFlowjs: 網頁版本，適合邊緣運算的裝置及虛擬機裝置 (Docker/Kubernetes)\n",
    "  * TensorFlow Lite: 輕量版，適合手機和物聯網裝置\n",
    "* TensorFlow Keras 模組逐步整合以下模組及工具，列出幾個比較重要的可以去了解：\n",
    "  * `GradientTape`: 低階梯度下降的訓練\n",
    "  * `Dataset and Loader`: 資料集載入\n",
    "  * `Callback`. \n",
    "  * `Estimator` 估計器. \n",
    "  * `Keras Application`: 預訓練好的模型. \n",
    "  * `Tensorflow Hub`: 進階的預訓練模型. \n",
    "  * `TensorBoard`: 視覺化工具\n",
    "  * `TensorFlow Serving`: 部署工具"
   ]
  },
  {
   "cell_type": "markdown",
   "metadata": {},
   "source": [
    "* 模型在運算時，正向傳導時，用到 `張量運算`，反向傳導時用到 `自動微分`\n",
    "* 所以，這章就是要來介紹這兩個重要 component"
   ]
  },
  {
   "cell_type": "markdown",
   "metadata": {},
   "source": [
    "## 張量運算 (Tensor)"
   ]
  },
  {
   "cell_type": "code",
   "execution_count": 3,
   "metadata": {
    "colab": {
     "base_uri": "https://localhost:8080/",
     "height": 34
    },
    "colab_type": "code",
    "executionInfo": {
     "elapsed": 2359,
     "status": "ok",
     "timestamp": 1589555229866,
     "user": {
      "displayName": "Michael Chen",
      "photoUrl": "https://lh6.googleusercontent.com/-TON9A5EF6jQ/AAAAAAAAAAI/AAAAAAAAAS4/HJIu8CBlqXg/s64/photo.jpg",
      "userId": "08537850099549646899"
     },
     "user_tz": -480
    },
    "id": "Cqe7bDRVnJuK",
    "outputId": "e1fbb20f-01cf-4126-93c6-8598f15a65ac",
    "scrolled": true
   },
   "outputs": [
    {
     "name": "stdout",
     "output_type": "stream",
     "text": [
      "2.3.1\n"
     ]
    },
    {
     "data": {
      "text/plain": [
       "[]"
      ]
     },
     "execution_count": 3,
     "metadata": {},
     "output_type": "execute_result"
    }
   ],
   "source": [
    "# 載入套件\n",
    "import tensorflow as tf\n",
    "\n",
    "# 顯示版本\n",
    "print(tf.__version__)\n",
    "\n",
    "# 檢查 GPU 是否存在\n",
    "# check cuda available\n",
    "tf.config.list_physical_devices('GPU')"
   ]
  },
  {
   "cell_type": "markdown",
   "metadata": {},
   "source": [
    "### 宣告 tensor 常數(constant)，參數可以是常數、list、numpy array"
   ]
  },
  {
   "cell_type": "code",
   "execution_count": 4,
   "metadata": {
    "colab": {},
    "colab_type": "code",
    "id": "x4swMa9XnMn_"
   },
   "outputs": [],
   "source": [
    "# 宣告常數(constant)，參數可以是常數、list、numpy array\n",
    "x = tf.constant([[1, 2]])"
   ]
  },
  {
   "cell_type": "markdown",
   "metadata": {},
   "source": [
    "### 以四則運算符號計算"
   ]
  },
  {
   "cell_type": "code",
   "execution_count": 5,
   "metadata": {},
   "outputs": [
    {
     "name": "stdout",
     "output_type": "stream",
     "text": [
      "tf.Tensor([[11 12]], shape=(1, 2), dtype=int32)\n",
      "tf.Tensor([[-9 -8]], shape=(1, 2), dtype=int32)\n",
      "tf.Tensor([[2 4]], shape=(1, 2), dtype=int32)\n",
      "tf.Tensor([[0.5 1. ]], shape=(1, 2), dtype=float64)\n"
     ]
    }
   ],
   "source": [
    "print(x+10)\n",
    "print(x-10)\n",
    "print(x*2)\n",
    "print(x/2)"
   ]
  },
  {
   "cell_type": "code",
   "execution_count": 6,
   "metadata": {},
   "outputs": [
    {
     "data": {
      "text/plain": [
       "array([[11, 12]], dtype=int32)"
      ]
     },
     "execution_count": 6,
     "metadata": {},
     "output_type": "execute_result"
    }
   ],
   "source": [
    "# 若要只顯示數值，需轉換為 NumPy Array\n",
    "(x+10).numpy()"
   ]
  },
  {
   "cell_type": "code",
   "execution_count": 7,
   "metadata": {
    "colab": {
     "base_uri": "https://localhost:8080/",
     "height": 34
    },
    "colab_type": "code",
    "executionInfo": {
     "elapsed": 663,
     "status": "ok",
     "timestamp": 1589555233813,
     "user": {
      "displayName": "Michael Chen",
      "photoUrl": "https://lh6.googleusercontent.com/-TON9A5EF6jQ/AAAAAAAAAAI/AAAAAAAAAS4/HJIu8CBlqXg/s64/photo.jpg",
      "userId": "08537850099549646899"
     },
     "user_tz": -480
    },
    "id": "_41ETIDunkMe",
    "outputId": "bb74f2ed-2b5d-47ac-ea4a-2a9578d9af05"
   },
   "outputs": [
    {
     "data": {
      "text/plain": [
       "numpy.ndarray"
      ]
     },
     "execution_count": 7,
     "metadata": {},
     "output_type": "execute_result"
    }
   ],
   "source": [
    "type(x.numpy())"
   ]
  },
  {
   "cell_type": "markdown",
   "metadata": {},
   "source": [
    "### 使用 TensorFlow 函數"
   ]
  },
  {
   "cell_type": "code",
   "execution_count": 8,
   "metadata": {},
   "outputs": [
    {
     "name": "stdout",
     "output_type": "stream",
     "text": [
      "tf.Tensor([[-1 -2]], shape=(1, 2), dtype=int32)\n",
      "tf.Tensor(3, shape=(), dtype=int32)\n",
      "tf.Tensor([4 6], shape=(2,), dtype=int32)\n",
      "tf.Tensor(25, shape=(), dtype=int32)\n",
      "tf.Tensor(6, shape=(), dtype=int32)\n",
      "tf.Tensor(13, shape=(), dtype=int32)\n"
     ]
    }
   ],
   "source": [
    "# 轉為負數\n",
    "print(tf.negative(x))\n",
    "\n",
    "# 常數、List、Numpy array 均可運算\n",
    "print(tf.add(1, 2))\n",
    "print(tf.add([1, 2], [3, 4]))\n",
    "\n",
    "print(tf.square(5))\n",
    "print(tf.reduce_sum([1, 2, 3]))\n",
    "\n",
    "# 混用四則運算符號及TensorFlow 函數\n",
    "print(tf.square(2) + tf.square(3))"
   ]
  },
  {
   "cell_type": "markdown",
   "metadata": {},
   "source": [
    "### TensorFlow 會自動決定在 cpu or gpu 運算"
   ]
  },
  {
   "cell_type": "markdown",
   "metadata": {},
   "source": [
    "* 一般而言，常數 (tf.constant) 放在 CPU，其他變數放在 GPU，兩者要加總時，會把常數搬到 GPU 再加總"
   ]
  },
  {
   "cell_type": "code",
   "execution_count": 8,
   "metadata": {
    "scrolled": true
   },
   "outputs": [
    {
     "name": "stdout",
     "output_type": "stream",
     "text": [
      "x1 是否在 GPU #0 上:   False\n",
      "x2 是否在 GPU #0 上:   False\n",
      "x3 是否在 GPU #0 上:   False\n"
     ]
    }
   ],
   "source": [
    "x1 = tf.constant([[1, 2, 3]], dtype=float)\n",
    "print(\"x1 是否在 GPU #0 上:  \", x1.device.endswith('GPU:0'))\n",
    "\n",
    "# 設定 x 為均勻分配亂數 3x3\n",
    "x2 = tf.random.uniform([3, 3])\n",
    "print(\"x2 是否在 GPU #0 上:  \", x2.device.endswith('GPU:0'))\n",
    "\n",
    "x3=x1+x2\n",
    "print(\"x3 是否在 GPU #0 上:  \", x3.device.endswith('GPU:0'))"
   ]
  },
  {
   "cell_type": "markdown",
   "metadata": {},
   "source": [
    "### 強制指定在cpu或gpu運算"
   ]
  },
  {
   "cell_type": "markdown",
   "metadata": {},
   "source": [
    "* 用 `with tf.device(\"CPU:0\")` 可以指定用 CPU 算，用 `with tf.device(\"GPU:0\")`可以指定用 GPU 算"
   ]
  },
  {
   "cell_type": "code",
   "execution_count": 9,
   "metadata": {},
   "outputs": [
    {
     "name": "stdout",
     "output_type": "stream",
     "text": [
      "On CPU:89.59ms\n"
     ]
    }
   ],
   "source": [
    "import time\n",
    "\n",
    "# 計算 10 次的時間\n",
    "def time_matmul(x):\n",
    "    start = time.time()\n",
    "    for loop in range(10):\n",
    "        tf.matmul(x, x)\n",
    "\n",
    "    result = time.time()-start\n",
    "    print(\"{:0.2f}ms\".format(1000*result))\n",
    "\n",
    "# 強制指定在cpu運算\n",
    "print(\"On CPU:\", end='')\n",
    "with tf.device(\"CPU:0\"):\n",
    "    x = tf.random.uniform([1000, 1000])\n",
    "    assert x.device.endswith(\"CPU:0\")\n",
    "    time_matmul(x)\n",
    "\n",
    "# 強制指定在gpu運算\n",
    "if tf.config.list_physical_devices(\"GPU\"):\n",
    "    print(\"On GPU:\", end='')\n",
    "    with tf.device(\"GPU:0\"): \n",
    "        x = tf.random.uniform([1000, 1000])\n",
    "        assert x.device.endswith(\"GPU:0\")\n",
    "        time_matmul(x)"
   ]
  },
  {
   "cell_type": "markdown",
   "metadata": {},
   "source": [
    "### 稀疏矩陣(sparse matrix)"
   ]
  },
  {
   "cell_type": "code",
   "execution_count": 9,
   "metadata": {},
   "outputs": [
    {
     "data": {
      "image/png": "[encoded data removed]",
      "text/plain": [
       "<IPython.core.display.Image object>"
      ]
     },
     "execution_count": 9,
     "metadata": {},
     "output_type": "execute_result"
    }
   ],
   "source": [
    "from IPython.display import Image\n",
    "Image('./images/sparse matrix.png')"
   ]
  },
  {
   "cell_type": "code",
   "execution_count": 10,
   "metadata": {},
   "outputs": [
    {
     "name": "stdout",
     "output_type": "stream",
     "text": [
      "SparseTensor(indices=tf.Tensor(\n",
      "[[0 0]\n",
      " [1 2]], shape=(2, 2), dtype=int64), values=tf.Tensor([1 2], shape=(2,), dtype=int32), dense_shape=tf.Tensor([3 4], shape=(2,), dtype=int64))\n"
     ]
    }
   ],
   "source": [
    "# 稀疏矩陣只需設定有值的位置及數值\n",
    "sparse_tensor = tf.sparse.SparseTensor(indices=[[0, 0], [1, 2]], # 有值的位置\n",
    "                                       values=[1, 2], # 值是多少\n",
    "                                       dense_shape=[3, 4])\n",
    "print(sparse_tensor)"
   ]
  },
  {
   "cell_type": "code",
   "execution_count": 11,
   "metadata": {},
   "outputs": [
    {
     "name": "stdout",
     "output_type": "stream",
     "text": [
      "<class 'tensorflow.python.framework.ops.EagerTensor'>\n"
     ]
    },
    {
     "data": {
      "text/plain": [
       "array([[1, 0, 0, 0],\n",
       "       [0, 0, 2, 0],\n",
       "       [0, 0, 0, 0]], dtype=int32)"
      ]
     },
     "execution_count": 11,
     "metadata": {},
     "output_type": "execute_result"
    }
   ],
   "source": [
    "# 轉為正常的矩陣格式\n",
    "x = tf.sparse.to_dense(sparse_tensor)\n",
    "print(type(x))\n",
    "\n",
    "# 2.31 以前版本會出錯\n",
    "x.numpy()"
   ]
  },
  {
   "cell_type": "markdown",
   "metadata": {},
   "source": [
    "### 回歸 TF 1.x 版 Graph Execution Mode"
   ]
  },
  {
   "cell_type": "markdown",
   "metadata": {},
   "source": [
    "* 如果要執行 Tensorflow 1.x 版 Graph Execution Mode 的程式，需 disable 2.x 版的功能，並改變仔入套件的 namespace\n",
    "* 建議：  \n",
    "  * tf 2.x 版的 Eager Execution Mode 已是主流，不要再用 1.x 版的 session 或 TFLearn 等舊架構  \n",
    "  * 手邊如果是 1.x 版的 code ，可用官網 migration 指南做修改. \n",
    "  * 官網也有指令可以一次升級整個資料夾裡的舊 code"
   ]
  },
  {
   "cell_type": "code",
   "execution_count": 28,
   "metadata": {
    "colab": {
     "base_uri": "https://localhost:8080/",
     "height": 87
    },
    "colab_type": "code",
    "executionInfo": {
     "elapsed": 770,
     "status": "ok",
     "timestamp": 1589555243335,
     "user": {
      "displayName": "Michael Chen",
      "photoUrl": "https://lh6.googleusercontent.com/-TON9A5EF6jQ/AAAAAAAAAAI/AAAAAAAAAS4/HJIu8CBlqXg/s64/photo.jpg",
      "userId": "08537850099549646899"
     },
     "user_tz": -480
    },
    "id": "VfcB-umQn79k",
    "outputId": "60c49364-d0b3-4fe9-93b0-964d920dda8c"
   },
   "outputs": [
    {
     "name": "stdout",
     "output_type": "stream",
     "text": [
      "WARNING:tensorflow:From C:\\anaconda3\\lib\\site-packages\\tensorflow\\python\\compat\\v2_compat.py:96: disable_resource_variables (from tensorflow.python.ops.variable_scope) is deprecated and will be removed in a future version.\n",
      "Instructions for updating:\n",
      "non-resource variables are not supported in the long term\n"
     ]
    }
   ],
   "source": [
    "if tf.__version__[0] != '1':           # 是否為 TensorFlow 1.x版\n",
    "    import tensorflow.compat.v1 as tf  # 改變載入套件的命名空間(Namespace)\n",
    "    tf.disable_v2_behavior()           # 使 2.x 版功能失效(Disable)"
   ]
  },
  {
   "cell_type": "code",
   "execution_count": 29,
   "metadata": {
    "colab": {
     "base_uri": "https://localhost:8080/",
     "height": 34
    },
    "colab_type": "code",
    "executionInfo": {
     "elapsed": 696,
     "status": "ok",
     "timestamp": 1589555245892,
     "user": {
      "displayName": "Michael Chen",
      "photoUrl": "https://lh6.googleusercontent.com/-TON9A5EF6jQ/AAAAAAAAAAI/AAAAAAAAAS4/HJIu8CBlqXg/s64/photo.jpg",
      "userId": "08537850099549646899"
     },
     "user_tz": -480
    },
    "id": "eTGjPHFnnW83",
    "outputId": "2cc47013-73fa-4bd1-9b30-715d640596ee"
   },
   "outputs": [
    {
     "name": "stdout",
     "output_type": "stream",
     "text": [
      "[[-1 -2]]\n"
     ]
    }
   ],
   "source": [
    "# 測試1.x版程式\n",
    "x = tf.constant([[1, 2]])\n",
    "neg_x = tf.negative(x)\n",
    "\n",
    "with tf.Session() as sess:   # 使用 session\n",
    "    result = sess.run(neg_x)\n",
    "    print(result)"
   ]
  },
  {
   "cell_type": "markdown",
   "metadata": {},
   "source": [
    "### GPU記憶體管理"
   ]
  },
  {
   "cell_type": "code",
   "execution_count": 3,
   "metadata": {
    "colab": {},
    "colab_type": "code",
    "id": "vmbeqza0nbf_"
   },
   "outputs": [
    {
     "name": "stdout",
     "output_type": "stream",
     "text": [
      "1 Physical GPUs, 1 Logical GPUs\n"
     ]
    }
   ],
   "source": [
    "# 限制 TensorFlow 只能使用 GPU 2GB 記憶體\n",
    "gpus = tf.config.experimental.list_physical_devices('GPU')\n",
    "if gpus:    \n",
    "    try:\n",
    "        # 限制 第一顆 GPU 只能使用 2GB 記憶體\n",
    "        tf.config.experimental.set_virtual_device_configuration(gpus[0],\n",
    "            [tf.config.experimental.VirtualDeviceConfiguration(memory_limit=1024*2)])\n",
    "        \n",
    "        # 顯示 GPU 個數\n",
    "        logical_gpus = tf.config.experimental.list_logical_devices('GPU')\n",
    "        print(len(gpus), \"Physical GPUs,\", len(logical_gpus), \"Logical GPUs\")\n",
    "    except RuntimeError as e:\n",
    "        # 顯示錯誤訊息\n",
    "        print(e)"
   ]
  },
  {
   "cell_type": "markdown",
   "metadata": {},
   "source": [
    "### Disable GPU"
   ]
  },
  {
   "cell_type": "code",
   "execution_count": 4,
   "metadata": {},
   "outputs": [],
   "source": [
    "import os\n",
    "\n",
    "os.environ[\"CUDA_VISIBLE_DEVICES\"] = \"-1\""
   ]
  },
  {
   "cell_type": "markdown",
   "metadata": {},
   "source": [
    "## 自動微分 (Automatic Differention)"
   ]
  },
  {
   "cell_type": "markdown",
   "metadata": {},
   "source": [
    "### 單變量一階微分"
   ]
  },
  {
   "cell_type": "markdown",
   "metadata": {},
   "source": [
    "* 如果宣告一個變數是 `tf.Variable()`，那就可以對他做自動微分"
   ]
  },
  {
   "cell_type": "code",
   "execution_count": 13,
   "metadata": {},
   "outputs": [
    {
     "name": "stdout",
     "output_type": "stream",
     "text": [
      "6.0\n"
     ]
    }
   ],
   "source": [
    "x = tf.Variable(3.0)         # 宣告 x 是一個 TensorFlow 變數(Variable)，目前的值是 3.0\n",
    "\n",
    "with tf.GradientTape() as g: # 自動微分\n",
    "    y = x * x                # y = x^2\n",
    "    \n",
    "dy_dx = g.gradient(y, x)     # 取得梯度， f'(x) = 2x, x=3 ==> 6\n",
    "\n",
    "print(dy_dx.numpy())         # 轉換為 NumPy array 格式"
   ]
  },
  {
   "cell_type": "markdown",
   "metadata": {},
   "source": [
    "* 但如果宣告一個變數是 `rf.constant()`，那如果要參與自動微分，還需額外設定 `g.watch()`"
   ]
  },
  {
   "cell_type": "code",
   "execution_count": 14,
   "metadata": {},
   "outputs": [
    {
     "name": "stdout",
     "output_type": "stream",
     "text": [
      "6.0\n"
     ]
    }
   ],
   "source": [
    "x = tf.constant(3.0)         # 宣告 TensorFlow 常數\n",
    "\n",
    "with tf.GradientTape() as g: # 自動微分\n",
    "    g.watch(x)               # 設定常數參與自動微分\n",
    "    y = x * x                # y = x^2\n",
    "    \n",
    "dy_dx = g.gradient(y, x)     # 取得梯度， f'(x) = 2x, x=3 ==> 6\n",
    "\n",
    "print(dy_dx.numpy())         # 轉換為 NumPy array 格式"
   ]
  },
  {
   "cell_type": "markdown",
   "metadata": {},
   "source": [
    "### 單變量二階微分"
   ]
  },
  {
   "cell_type": "markdown",
   "metadata": {},
   "source": [
    "* 就連做兩次，就是了："
   ]
  },
  {
   "cell_type": "code",
   "execution_count": 15,
   "metadata": {},
   "outputs": [
    {
     "name": "stdout",
     "output_type": "stream",
     "text": [
      "一階導數=6.0, 二階導數=2.0\n"
     ]
    }
   ],
   "source": [
    "x = tf.Variable(3.0)              \n",
    "with tf.GradientTape() as g:      # 自動微分\n",
    "    with tf.GradientTape() as gg: # 自動微分\n",
    "        y = x * x                 # y = x^2\n",
    "    dy_dx = gg.gradient(y, x)     # 一階導數\n",
    "d2y_dx2 = g.gradient(dy_dx, x)    # 二階導數\n",
    "\n",
    "print(f'一階導數={dy_dx.numpy()}, 二階導數={d2y_dx2.numpy()}') "
   ]
  },
  {
   "cell_type": "markdown",
   "metadata": {},
   "source": [
    "* `tf.constant()` 也可以："
   ]
  },
  {
   "cell_type": "code",
   "execution_count": 16,
   "metadata": {},
   "outputs": [
    {
     "name": "stdout",
     "output_type": "stream",
     "text": [
      "一階導數=6.0, 二階導數=2.0\n"
     ]
    }
   ],
   "source": [
    "x = tf.constant(3.0)              # 宣告 TensorFlow 常數\n",
    "with tf.GradientTape() as g:      # 自動微分\n",
    "    g.watch(x)\n",
    "    with tf.GradientTape() as gg: # 自動微分\n",
    "        gg.watch(x)               # 設定常數參與自動微分\n",
    "        y = x * x                 # y = x^2\n",
    "        \n",
    "    dy_dx = gg.gradient(y, x)     # 一階導數\n",
    "d2y_dx2 = g.gradient(dy_dx, x)    # 二階導數\n",
    "\n",
    "print(f'一階導數={dy_dx.numpy()}, 二階導數={d2y_dx2.numpy()}') "
   ]
  },
  {
   "cell_type": "markdown",
   "metadata": {},
   "source": [
    "### 連鎖律"
   ]
  },
  {
   "cell_type": "markdown",
   "metadata": {},
   "source": [
    "* 如果 $z = y^2$, $y = x^2$，那 $z = x^4$\n",
    "* 我們可以計算 $dy/dx$，以及 $dz/dx$\n",
    "* 作法如下："
   ]
  },
  {
   "cell_type": "code",
   "execution_count": 17,
   "metadata": {},
   "outputs": [
    {
     "name": "stdout",
     "output_type": "stream",
     "text": [
      "dy/dx=6.0, dz/dx=108.0\n"
     ]
    }
   ],
   "source": [
    "x = tf.Variable(3.0)          # 宣告 TensorFlow 常數\n",
    "with tf.GradientTape(persistent=True) as g:  # 自動微分\n",
    "    y = x * x                 # y = x^2\n",
    "    z = y * y                 # z = y^2\n",
    "    \n",
    "dz_dx = g.gradient(z, x)      # 4*x^3\n",
    "dy_dx = g.gradient(y, x)      # 2*x\n",
    "\n",
    "del g                         # 不用時可刪除 GradientTape 物件\n",
    "\n",
    "print(f'dy/dx={dy_dx.numpy()}, dz/dx={dz_dx.numpy()}') "
   ]
  },
  {
   "cell_type": "markdown",
   "metadata": {},
   "source": [
    "* 這邊要注意，當我們要呼叫 `g.gradient()` 兩次以上(例如這邊示範，做了 dz/dx 和 dy/dx，做了兩次)，那在 `tf.GradientTape()` 要加上 `persistent = True` 這個參數"
   ]
  },
  {
   "cell_type": "markdown",
   "metadata": {},
   "source": [
    "### pytorch 語法"
   ]
  },
  {
   "cell_type": "markdown",
   "metadata": {},
   "source": [
    "* 順便認識一下 pytorch 的語法"
   ]
  },
  {
   "cell_type": "code",
   "execution_count": 18,
   "metadata": {},
   "outputs": [
    {
     "name": "stdout",
     "output_type": "stream",
     "text": [
      "tensor(6.)\n"
     ]
    }
   ],
   "source": [
    "import torch       # 載入套件\n",
    "\n",
    "x = torch.tensor(3.0, requires_grad=True)  # 設定 x 參與自動微分\n",
    "y=x*x              # y = x^2\n",
    "\n",
    "y.backward()       # 反向傳導\n",
    "\n",
    "print(x.grad)      # 取得梯度"
   ]
  },
  {
   "cell_type": "markdown",
   "metadata": {},
   "source": [
    "### 實例：用自動微分來做簡單線性回歸"
   ]
  },
  {
   "cell_type": "markdown",
   "metadata": {},
   "source": [
    "#### data"
   ]
  },
  {
   "cell_type": "markdown",
   "metadata": {},
   "source": [
    "* 我們先自己生成一組資料: $y = 1.5x + 7 + e$， where $e \\sim N(0, 1)$"
   ]
  },
  {
   "cell_type": "code",
   "execution_count": 80,
   "metadata": {},
   "outputs": [],
   "source": [
    "import numpy as np\n",
    "import matplotlib.pyplot as plt \n",
    "\n",
    "# 產生線性隨機資料100筆，介於 0-50\n",
    "n = 100\n",
    "X = np.linspace(0, 50, n) \n",
    "y = 1.5*X + 7 + np.random.uniform(-5, 5, n)"
   ]
  },
  {
   "cell_type": "code",
   "execution_count": 81,
   "metadata": {},
   "outputs": [
    {
     "data": {
      "text/plain": [
       "array([ 0.        ,  0.50505051,  1.01010101,  1.51515152,  2.02020202,\n",
       "        2.52525253,  3.03030303,  3.53535354,  4.04040404,  4.54545455,\n",
       "        5.05050505,  5.55555556,  6.06060606,  6.56565657,  7.07070707,\n",
       "        7.57575758,  8.08080808,  8.58585859,  9.09090909,  9.5959596 ,\n",
       "       10.1010101 , 10.60606061, 11.11111111, 11.61616162, 12.12121212,\n",
       "       12.62626263, 13.13131313, 13.63636364, 14.14141414, 14.64646465,\n",
       "       15.15151515, 15.65656566, 16.16161616, 16.66666667, 17.17171717,\n",
       "       17.67676768, 18.18181818, 18.68686869, 19.19191919, 19.6969697 ,\n",
       "       20.2020202 , 20.70707071, 21.21212121, 21.71717172, 22.22222222,\n",
       "       22.72727273, 23.23232323, 23.73737374, 24.24242424, 24.74747475,\n",
       "       25.25252525, 25.75757576, 26.26262626, 26.76767677, 27.27272727,\n",
       "       27.77777778, 28.28282828, 28.78787879, 29.29292929, 29.7979798 ,\n",
       "       30.3030303 , 30.80808081, 31.31313131, 31.81818182, 32.32323232,\n",
       "       32.82828283, 33.33333333, 33.83838384, 34.34343434, 34.84848485,\n",
       "       35.35353535, 35.85858586, 36.36363636, 36.86868687, 37.37373737,\n",
       "       37.87878788, 38.38383838, 38.88888889, 39.39393939, 39.8989899 ,\n",
       "       40.4040404 , 40.90909091, 41.41414141, 41.91919192, 42.42424242,\n",
       "       42.92929293, 43.43434343, 43.93939394, 44.44444444, 44.94949495,\n",
       "       45.45454545, 45.95959596, 46.46464646, 46.96969697, 47.47474747,\n",
       "       47.97979798, 48.48484848, 48.98989899, 49.49494949, 50.        ])"
      ]
     },
     "execution_count": 81,
     "metadata": {},
     "output_type": "execute_result"
    }
   ],
   "source": [
    "X"
   ]
  },
  {
   "cell_type": "code",
   "execution_count": 82,
   "metadata": {},
   "outputs": [
    {
     "data": {
      "text/plain": [
       "array([ 4.61812511, 12.16599259,  4.31539025,  9.03148285,  9.5250196 ,\n",
       "        8.67113559, 14.2165519 ,  9.24655017, 15.87767426, 17.45593215,\n",
       "       17.37408171, 12.48262249, 15.00704669, 19.95183794, 17.73814556,\n",
       "       22.28873757, 15.01163814, 20.81249455, 23.34883962, 25.65014262,\n",
       "       20.83339149, 19.38510435, 19.90977851, 21.79934144, 26.53705319,\n",
       "       21.56272476, 23.30661441, 32.04099293, 29.80046598, 28.6904976 ,\n",
       "       25.8440825 , 27.85550798, 30.4930932 , 35.43366629, 36.85711751,\n",
       "       35.59821868, 35.75688312, 36.69965731, 36.47518131, 33.32262397,\n",
       "       37.29160658, 35.72160898, 39.10856461, 44.22372359, 43.87319053,\n",
       "       43.31339787, 43.71046794, 38.03604079, 44.48362624, 42.98562593,\n",
       "       41.67192309, 46.41266369, 44.18606575, 49.2070708 , 49.27225798,\n",
       "       51.60477221, 45.82287064, 50.60181073, 46.10308375, 46.84366854,\n",
       "       48.66358464, 52.82547167, 57.92276077, 52.80450067, 55.38157149,\n",
       "       60.13861047, 53.13028287, 53.42494092, 59.50141804, 64.04632961,\n",
       "       63.6361185 , 61.66147854, 63.97352493, 64.81144954, 64.4235647 ,\n",
       "       59.08385631, 63.66793349, 61.63727569, 63.52209461, 69.21521433,\n",
       "       64.61439674, 66.8530421 , 73.90303298, 70.08782254, 72.29089195,\n",
       "       74.30263436, 75.02432962, 77.05185846, 78.3848735 , 73.89676933,\n",
       "       76.39280508, 72.75719549, 78.82942884, 79.18957686, 76.30370414,\n",
       "       74.4433226 , 80.17104036, 79.22659145, 80.91185857, 82.61933512])"
      ]
     },
     "execution_count": 82,
     "metadata": {},
     "output_type": "execute_result"
    }
   ],
   "source": [
    "y"
   ]
  },
  {
   "cell_type": "code",
   "execution_count": 83,
   "metadata": {},
   "outputs": [
    {
     "data": {
      "image/png": "[encoded data removed]",
      "text/plain": [
       "<Figure size 432x288 with 1 Axes>"
      ]
     },
     "metadata": {
      "needs_background": "light"
     },
     "output_type": "display_data"
    }
   ],
   "source": [
    "plt.scatter(X, y, label='data');"
   ]
  },
  {
   "cell_type": "markdown",
   "metadata": {},
   "source": [
    "#### 定義問題"
   ]
  },
  {
   "cell_type": "markdown",
   "metadata": {},
   "source": [
    "* 我們定義： $y_{hat}^{(i)} = w*x^{(i)} + b$，想要估 w 和 b\n",
    "* 由 true model 可知，w=1.5, b=7，我們希望估出來的答案越接近越好"
   ]
  },
  {
   "cell_type": "markdown",
   "metadata": {},
   "source": [
    "#### 定義訓練用函數"
   ]
  },
  {
   "cell_type": "markdown",
   "metadata": {},
   "source": [
    "* 我們定義一個函數，是輸入 100 維的 X 向量後，可以輸出 100 維的 y 預測值："
   ]
  },
  {
   "cell_type": "code",
   "execution_count": 84,
   "metadata": {},
   "outputs": [],
   "source": [
    "# 定義預測值函數\n",
    "def predict(X):\n",
    "    return w * X + b "
   ]
  },
  {
   "cell_type": "markdown",
   "metadata": {},
   "source": [
    "* 然後，定義損失函數，去計算 MSE"
   ]
  },
  {
   "cell_type": "code",
   "execution_count": 85,
   "metadata": {},
   "outputs": [],
   "source": [
    "# 定義損失函數\n",
    "def loss(y, y_pred):\n",
    "    return tf.reduce_mean(tf.square(y - y_pred)) "
   ]
  },
  {
   "cell_type": "markdown",
   "metadata": {},
   "source": [
    "* 最後，是訓練用函數："
   ]
  },
  {
   "cell_type": "code",
   "execution_count": 110,
   "metadata": {},
   "outputs": [],
   "source": [
    "# 定義訓練函數\n",
    "def train(X, y, epochs=10000, lr=0.001):\n",
    "    current_loss=0                                # 損失函數值\n",
    "    for epoch in range(epochs):                   # 執行訓練週期\n",
    "        with tf.GradientTape() as t:              # 自動微分\n",
    "            t.watch(tf.constant(X))               # 宣告 TensorFlow 常數參與自動微分\n",
    "            current_loss = loss(y, predict(X))    # 計算損失函數值\n",
    "        \n",
    "        dw, db = t.gradient(current_loss, [w, b]) # 取得 w, b 個別的梯度\n",
    "\n",
    "        # 更新權重：新權重 = 原權重 — 學習率(learning_rate) * 梯度(gradient)\n",
    "        w.assign_sub(lr * dw) # w -= lr * dw\n",
    "        b.assign_sub(lr * db) # b -= lr * db\n",
    "\n",
    "        # 顯示每一訓練週期的損失函數\n",
    "        if (epoch+1) % 500 == 0:\n",
    "            print(f'Epoch {epoch}, Loss: {current_loss.numpy()}, w: {w.numpy()}, b: {b.numpy()}') "
   ]
  },
  {
   "cell_type": "markdown",
   "metadata": {},
   "source": [
    "#### 開始訓練"
   ]
  },
  {
   "cell_type": "code",
   "execution_count": 111,
   "metadata": {},
   "outputs": [
    {
     "name": "stdout",
     "output_type": "stream",
     "text": [
      "Epoch 499, Loss: 15.45288372039795, w: 1.6650562286376953, b: 1.597375512123108\n",
      "Epoch 999, Loss: 12.553118705749512, w: 1.629228949546814, b: 2.7972848415374756\n",
      "Epoch 1499, Loss: 10.806967735290527, w: 1.6014271974563599, b: 3.728408098220825\n",
      "Epoch 1999, Loss: 9.755481719970703, w: 1.5798529386520386, b: 4.450960159301758\n",
      "Epoch 2499, Loss: 9.122313499450684, w: 1.563111662864685, b: 5.011654853820801\n",
      "Epoch 2999, Loss: 8.741037368774414, w: 1.5501203536987305, b: 5.446751594543457\n",
      "Epoch 3499, Loss: 8.51144027709961, w: 1.540039300918579, b: 5.784387111663818\n",
      "Epoch 3999, Loss: 8.373186111450195, w: 1.5322160720825195, b: 6.046396255493164\n",
      "Epoch 4499, Loss: 8.289933204650879, w: 1.5261454582214355, b: 6.249708652496338\n",
      "Epoch 4999, Loss: 8.239802360534668, w: 1.5214346647262573, b: 6.407477378845215\n",
      "Epoch 5499, Loss: 8.209613800048828, w: 1.5177792310714722, b: 6.529905319213867\n",
      "Epoch 5999, Loss: 8.191433906555176, w: 1.5149424076080322, b: 6.624911785125732\n",
      "Epoch 6499, Loss: 8.180487632751465, w: 1.5127413272857666, b: 6.698636531829834\n",
      "Epoch 6999, Loss: 8.173895835876465, w: 1.511033058166504, b: 6.7558441162109375\n",
      "Epoch 7499, Loss: 8.169925689697266, w: 1.5097074508666992, b: 6.800238132476807\n",
      "Epoch 7999, Loss: 8.167535781860352, w: 1.5086790323257446, b: 6.834686756134033\n",
      "Epoch 8499, Loss: 8.166096687316895, w: 1.5078809261322021, b: 6.861418724060059\n",
      "Epoch 8999, Loss: 8.165231704711914, w: 1.5072615146636963, b: 6.8821635246276855\n",
      "Epoch 9499, Loss: 8.16471004486084, w: 1.506780743598938, b: 6.898260593414307\n",
      "Epoch 9999, Loss: 8.164395332336426, w: 1.5064078569412231, b: 6.910752296447754\n",
      "w=1.5064078569412231, b=6.910752296447754\n"
     ]
    }
   ],
   "source": [
    "# w、b 初始值均設為 0\n",
    "w = tf.Variable(0.0)\n",
    "b = tf.Variable(0.0)\n",
    "\n",
    "# 執行訓練\n",
    "train(X, y)\n",
    "\n",
    "# w、b 的最佳解\n",
    "print(f'w={w.numpy()}, b={b.numpy()}')"
   ]
  },
  {
   "cell_type": "code",
   "execution_count": 112,
   "metadata": {},
   "outputs": [
    {
     "data": {
      "text/plain": [
       "<matplotlib.legend.Legend at 0x15b8b5a90>"
      ]
     },
     "execution_count": 112,
     "metadata": {},
     "output_type": "execute_result"
    },
    {
     "data": {
      "image/png": "[encoded data removed]",
      "text/plain": [
       "<Figure size 432x288 with 1 Axes>"
      ]
     },
     "metadata": {
      "needs_background": "light"
     },
     "output_type": "display_data"
    }
   ],
   "source": [
    "plt.scatter(X, y, label='data')\n",
    "plt.plot(X, predict(X), 'r-', label='predicted')\n",
    "plt.legend()"
   ]
  },
  {
   "cell_type": "markdown",
   "metadata": {},
   "source": [
    "#### 用 keras 直接解"
   ]
  },
  {
   "cell_type": "code",
   "execution_count": 121,
   "metadata": {},
   "outputs": [],
   "source": [
    "from tensorflow.keras import Sequential\n",
    "from tensorflow.keras.layers import Dense\n",
    "\n",
    "layer1 = Dense(units = 1, input_shape = [1])\n",
    "\n",
    "model = Sequential([\n",
    "    layer1\n",
    "])\n",
    "model.compile(\n",
    "    loss='mean_squared_error',\n",
    "    optimizer=tf.keras.optimizers.Adam()\n",
    ")\n",
    "history = model.fit(X, y, epochs=1000, verbose = False)"
   ]
  },
  {
   "cell_type": "markdown",
   "metadata": {},
   "source": [
    "* 看一下訓練過程："
   ]
  },
  {
   "cell_type": "code",
   "execution_count": 122,
   "metadata": {},
   "outputs": [
    {
     "data": {
      "image/png": "[encoded data removed]",
      "text/plain": [
       "<Figure size 432x288 with 1 Axes>"
      ]
     },
     "metadata": {
      "needs_background": "light"
     },
     "output_type": "display_data"
    }
   ],
   "source": [
    "plt.plot(history.history['loss']);\n",
    "plt.xlabel('epoch', fontsize=20);\n",
    "plt.ylabel(\"loss\", fontsize=20);"
   ]
  },
  {
   "cell_type": "markdown",
   "metadata": {},
   "source": [
    "* 取得模型參數"
   ]
  },
  {
   "cell_type": "code",
   "execution_count": 123,
   "metadata": {},
   "outputs": [
    {
     "name": "stdout",
     "output_type": "stream",
     "text": [
      "w：1.6639 , b：1.6600\n"
     ]
    }
   ],
   "source": [
    "w = layer1.get_weights()[0][0][0]\n",
    "b = layer1.get_weights()[1][0]\n",
    "\n",
    "print(f\"w：{w:.4f} , b：{b:.4f}\")"
   ]
  }
 ],
 "metadata": {
  "colab": {
   "collapsed_sections": [],
   "name": "TF2_Basics.ipynb",
   "provenance": []
  },
  "kernelspec": {
   "display_name": "Python 3",
   "language": "python",
   "name": "python3"
  },
  "language_info": {
   "codemirror_mode": {
    "name": "ipython",
    "version": 3
   },
   "file_extension": ".py",
   "mimetype": "text/x-python",
   "name": "python",
   "nbconvert_exporter": "python",
   "pygments_lexer": "ipython3",
   "version": "3.8.0"
  },
  "toc-autonumbering": true
 },
 "nbformat": 4,
 "nbformat_minor": 4
}
